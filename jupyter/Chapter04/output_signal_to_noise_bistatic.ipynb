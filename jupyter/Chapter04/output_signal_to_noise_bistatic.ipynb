{
 "cells": [
  {
   "cell_type": "markdown",
   "metadata": {},
   "source": [
    "# ***Introduction to Radar Using Python and MATLAB***\n",
    "## Andy Harrison - Artech House, 2020\n",
    "<br/>\n",
    "\n",
    "# Bistatic Radar Range Equation\n",
    "***"
   ]
  },
  {
   "cell_type": "markdown",
   "metadata": {},
   "source": [
    "The output signal to noise ratio for a bistatic radar configuration is given by (Equation 4.61)"
   ]
  },
  {
   "cell_type": "markdown",
   "metadata": {},
   "source": [
    "\\begin{equation}\\label{eq:bistatic_snr_output}\n",
    "    {SNR}_o = \\frac{P_t\\, G_t(\\theta, \\phi)\\, G_r(\\theta, \\phi)\\, \\sigma(\\theta, \\phi)\\, \\lambda^2}{(4\\pi)^3\\,k\\,T_0\\,B\\,F L_t\\, L_r\\,r_t^2\\,r_r^2}\n",
    "\\end{equation}\n",
    "***"
   ]
  },
  {
   "cell_type": "markdown",
   "metadata": {},
   "source": [
    "Begin by getting the library path"
   ]
  },
  {
   "cell_type": "code",
   "execution_count": 1,
   "metadata": {},
   "outputs": [],
   "source": [
    "import lib_path"
   ]
  },
  {
   "cell_type": "markdown",
   "metadata": {},
   "source": [
    "Set the minimum and maximum range product (m)"
   ]
  },
  {
   "cell_type": "code",
   "execution_count": 2,
   "metadata": {},
   "outputs": [],
   "source": [
    "range_product_min = 1e6\n",
    "\n",
    "range_product_max = 1e9"
   ]
  },
  {
   "cell_type": "markdown",
   "metadata": {},
   "source": [
    "Import the `linspace` routine from `scipy`"
   ]
  },
  {
   "cell_type": "code",
   "execution_count": 3,
   "metadata": {},
   "outputs": [],
   "source": [
    "from scipy import linspace"
   ]
  },
  {
   "cell_type": "markdown",
   "metadata": {},
   "source": [
    "Set up the range product array"
   ]
  },
  {
   "cell_type": "code",
   "execution_count": 4,
   "metadata": {},
   "outputs": [],
   "source": [
    "range_product = linspace(range_product_min, range_product_max, 2000)"
   ]
  },
  {
   "cell_type": "markdown",
   "metadata": {},
   "source": [
    "Set the noise figure (dB), transmit losses (dB), receive losses (dB), transmit antenna gain (dB), receive antenna gain (dB), and the bistatic target RCS (dBsm)"
   ]
  },
  {
   "cell_type": "code",
   "execution_count": 5,
   "metadata": {},
   "outputs": [],
   "source": [
    "noise_figure = 3.0\n",
    "\n",
    "transmit_losses = 9.0\n",
    "\n",
    "receive_losses = 6.0\n",
    "\n",
    "transmit_antenna_gain = 25.0\n",
    "\n",
    "receive_antenna_gain = 30.0\n",
    "\n",
    "bistatic_target_rcs = -10.0"
   ]
  },
  {
   "cell_type": "markdown",
   "metadata": {},
   "source": [
    "Set the system temperature (K), the bandwidth (Hz), the transmit peak power (W), and the operating frequency (Hz)"
   ]
  },
  {
   "cell_type": "code",
   "execution_count": 6,
   "metadata": {},
   "outputs": [],
   "source": [
    "system_temperature = 290\n",
    "\n",
    "bandwidth = 1e6\n",
    "\n",
    "peak_power = 50e3\n",
    "\n",
    "frequency = 1e9"
   ]
  },
  {
   "cell_type": "markdown",
   "metadata": {},
   "source": [
    "Set up the input args"
   ]
  },
  {
   "cell_type": "code",
   "execution_count": 7,
   "metadata": {},
   "outputs": [],
   "source": [
    "kwargs = {'transmit_target_range': 1.0,\n",
    "\n",
    "          'receive_target_range': range_product,\n",
    "\n",
    "          'system_temperature': system_temperature,\n",
    "\n",
    "          'bandwidth': bandwidth,\n",
    "\n",
    "          'noise_factor': 10 ** (noise_figure / 10.0),\n",
    "\n",
    "          'transmit_losses': 10 ** (transmit_losses / 10.0),\n",
    "\n",
    "          'receive_losses': 10 ** (receive_losses / 10.0),\n",
    "\n",
    "          'peak_power': peak_power,\n",
    "\n",
    "          'transmit_antenna_gain': 10 ** (transmit_antenna_gain / 10.0),\n",
    "\n",
    "          'receive_antenna_gain': 10 ** (receive_antenna_gain / 10.0),\n",
    "\n",
    "          'frequency': frequency,\n",
    "          \n",
    "          'bistatic_target_rcs': 10 ** (bistatic_target_rcs / 10.0)}"
   ]
  },
  {
   "cell_type": "markdown",
   "metadata": {},
   "source": [
    "Import the `output_snr` routine from `bistatic_radar_range`"
   ]
  },
  {
   "cell_type": "code",
   "execution_count": 8,
   "metadata": {},
   "outputs": [],
   "source": [
    "from Libs.radar_range.bistatic_radar_range import output_snr"
   ]
  },
  {
   "cell_type": "markdown",
   "metadata": {},
   "source": [
    "Calculate the bistatic output signal to noise ratio"
   ]
  },
  {
   "cell_type": "code",
   "execution_count": 9,
   "metadata": {},
   "outputs": [],
   "source": [
    "output_snr = output_snr(**kwargs)"
   ]
  },
  {
   "cell_type": "markdown",
   "metadata": {},
   "source": [
    "Import the `matplotlib` routines and `log10` from `scipy` for displaying the results"
   ]
  },
  {
   "cell_type": "code",
   "execution_count": 10,
   "metadata": {},
   "outputs": [],
   "source": [
    "from matplotlib import pyplot as plt\n",
    "\n",
    "from scipy import log10"
   ]
  },
  {
   "cell_type": "code",
   "execution_count": 11,
   "metadata": {},
   "outputs": [
    {
     "data": {
      "image/png": "[encoded data removed]",
      "text/plain": [
       "<matplotlib.figure.Figure at 0xba7ea30>"
      ]
     },
     "metadata": {
      "needs_background": "light"
     },
     "output_type": "display_data"
    }
   ],
   "source": [
    "# Set the figure size\n",
    "\n",
    "plt.rcParams[\"figure.figsize\"] = (15, 10)\n",
    "\n",
    "\n",
    "# Display the results\n",
    "\n",
    "plt.plot(range_product / 1.0e6, 10.0 * log10(output_snr), '')\n",
    "\n",
    "\n",
    "# Set the plot title and labels\n",
    "\n",
    "plt.title('Bistatic Output Signal to Noise Ratio', size=14)\n",
    "\n",
    "plt.xlabel('Range Product (km$^2$)', size=12)\n",
    "\n",
    "plt.ylabel('Output Signal to Noise Ratio (dB)', size=12)\n",
    "\n",
    "\n",
    "# Set the tick label size\n",
    "\n",
    "plt.tick_params(labelsize=12)\n",
    "\n",
    "\n",
    "# Turn on the grid\n",
    "\n",
    "plt.grid(linestyle=':', linewidth=0.5)"
   ]
  }
 ],
 "metadata": {
  "kernelspec": {
   "display_name": "Python 3",
   "language": "python",
   "name": "python3"
  },
  "language_info": {
   "codemirror_mode": {
    "name": "ipython",
    "version": 3
   },
   "file_extension": ".py",
   "mimetype": "text/x-python",
   "name": "python",
   "nbconvert_exporter": "python",
   "pygments_lexer": "ipython3",
   "version": "3.7.6"
  }
 },
 "nbformat": 4,
 "nbformat_minor": 4
}
