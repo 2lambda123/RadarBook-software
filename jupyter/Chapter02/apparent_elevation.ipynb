{
 "cells": [
  {
   "cell_type": "markdown",
   "metadata": {},
   "source": [
    "# Apparent Elevation"
   ]
  },
  {
   "cell_type": "markdown",
   "metadata": {},
   "source": [
    "Referring to Section 2.7.1, a signal transmitted through the atmosphere bends toward the earth. In many radar applications, this would require transmission of the signal at a higher elevation angle in order to have the energy intercept the target, as shown in Figure 2.9.  This angle is referred to as the apparent elevation angle, as the target appears to be at a different angle than its true position."
   ]
  },
  {
   "cell_type": "markdown",
   "metadata": {},
   "source": [
    "The amount of correction to the true target elevation is\n",
    "\n",
    "$$\n",
    "\\Delta \\theta = -\\int\\limits_{h}^{\\infty} \\frac{n'(z)}{n(z) \\tan \\phi}\\,dz \\hspace{0.5in} \\mathrm{(deg)}\n",
    "$$\n",
    "\n",
    "where \n",
    "\n",
    "$$\n",
    "    \\cos \\phi = \\frac{c}{(r_e+z) \\, n(z)}, \\hspace{0.2in} c = (r_e + h) \\, n(h) \\cos \\theta.\n",
    "$$\n",
    "\n",
    "\n",
    "Since the refraction in the atmosphere is largely determined by the lower layers, a model based on the exponential atmosphere for terrestrial propagation allows the index of refraction at some altitude, $z$, to be expressed as\n",
    "\n",
    "$$\n",
    "n(z) = 1 + \\alpha \\, e^{-\\beta z},\n",
    "$$\n",
    "\n",
    "where $\\alpha = 0.000315$, and $\\beta = 0.1361$."
   ]
  },
  {
   "cell_type": "markdown",
   "metadata": {},
   "source": [
    "Begin by getting the library path"
   ]
  },
  {
   "cell_type": "code",
   "execution_count": null,
   "metadata": {},
   "outputs": [],
   "source": [
    "import lib_path"
   ]
  },
  {
   "cell_type": "markdown",
   "metadata": {},
   "source": [
    "Set the true elevation (degrees) and the height (km) and create an array of 100 values using the `linspace` routine from `scipy`"
   ]
  },
  {
   "cell_type": "code",
   "execution_count": 2,
   "metadata": {},
   "outputs": [],
   "source": [
    "from scipy import linspace\n",
    "\n",
    "true_elevation = 20.0\n",
    "\n",
    "max_height = 5\n",
    "\n",
    "height = linspace(0, max_height, 100)"
   ]
  },
  {
   "cell_type": "markdown",
   "metadata": {},
   "source": [
    "Calculate the apparent elevation for each height value"
   ]
  },
  {
   "cell_type": "code",
   "execution_count": 4,
   "metadata": {},
   "outputs": [
    {
     "ename": "ModuleNotFoundError",
     "evalue": "No module named 'Libs'",
     "output_type": "error",
     "traceback": [
      "\u001b[0;31m---------------------------------------------------------------------------\u001b[0m",
      "\u001b[0;31mModuleNotFoundError\u001b[0m                       Traceback (most recent call last)",
      "\u001b[0;32m<ipython-input-4-580c7572fd46>\u001b[0m in \u001b[0;36m<module>\u001b[0;34m\u001b[0m\n\u001b[1;32m      1\u001b[0m \u001b[0;31m#from Libs.wave_propagation import refraction\u001b[0m\u001b[0;34m\u001b[0m\u001b[0;34m\u001b[0m\u001b[0;34m\u001b[0m\u001b[0m\n\u001b[0;32m----> 2\u001b[0;31m \u001b[0;32mimport\u001b[0m \u001b[0mrefraction\u001b[0m\u001b[0;34m\u001b[0m\u001b[0;34m\u001b[0m\u001b[0m\n\u001b[0m\u001b[1;32m      3\u001b[0m \u001b[0;34m\u001b[0m\u001b[0m\n\u001b[1;32m      4\u001b[0m \u001b[0mapparent_elevation\u001b[0m \u001b[0;34m=\u001b[0m \u001b[0;34m[\u001b[0m\u001b[0mrefraction\u001b[0m\u001b[0;34m.\u001b[0m\u001b[0mapparent_elevation\u001b[0m\u001b[0;34m(\u001b[0m\u001b[0mtrue_elevation\u001b[0m\u001b[0;34m,\u001b[0m \u001b[0mh\u001b[0m\u001b[0;34m)\u001b[0m \u001b[0;32mfor\u001b[0m \u001b[0mh\u001b[0m \u001b[0;32min\u001b[0m \u001b[0mheight\u001b[0m\u001b[0;34m]\u001b[0m\u001b[0;34m\u001b[0m\u001b[0;34m\u001b[0m\u001b[0m\n",
      "\u001b[0;32m~/demo/refraction.py\u001b[0m in \u001b[0;36m<module>\u001b[0;34m\u001b[0m\n\u001b[1;32m     17\u001b[0m \u001b[0;32mfrom\u001b[0m \u001b[0mscipy\u001b[0m\u001b[0;34m.\u001b[0m\u001b[0mlinalg\u001b[0m \u001b[0;32mimport\u001b[0m \u001b[0mnorm\u001b[0m\u001b[0;34m\u001b[0m\u001b[0;34m\u001b[0m\u001b[0m\n\u001b[1;32m     18\u001b[0m \u001b[0;34m\u001b[0m\u001b[0m\n\u001b[0;32m---> 19\u001b[0;31m \u001b[0;32mfrom\u001b[0m \u001b[0mLibs\u001b[0m\u001b[0;34m.\u001b[0m\u001b[0mutils\u001b[0m \u001b[0;32mimport\u001b[0m \u001b[0mecef_to_lla\u001b[0m\u001b[0;34m,\u001b[0m \u001b[0mlla_to_ecef\u001b[0m\u001b[0;34m\u001b[0m\u001b[0;34m\u001b[0m\u001b[0m\n\u001b[0m\u001b[1;32m     20\u001b[0m \u001b[0;34m\u001b[0m\u001b[0m\n\u001b[1;32m     21\u001b[0m \u001b[0;34m\u001b[0m\u001b[0m\n",
      "\u001b[0;31mModuleNotFoundError\u001b[0m: No module named 'Libs'"
     ]
    }
   ],
   "source": [
    "from Libs.wave_propagation import refraction\n",
    "\n",
    "apparent_elevation = [refraction.apparent_elevation(true_elevation, h) for h in height]"
   ]
  },
  {
   "cell_type": "markdown",
   "metadata": {},
   "source": [
    "Also calculate the apparent elevation with the approximate method"
   ]
  },
  {
   "cell_type": "code",
   "execution_count": null,
   "metadata": {},
   "outputs": [],
   "source": [
    "kwargs = {'theta_true': float(self.true_elevation.text()), 'height': float(self.height.text())}\n",
    "\n",
    "apparent_elevation_approximate = refraction.apparent_elevation_approximate(**kwargs)"
   ]
  },
  {
   "cell_type": "code",
   "execution_count": null,
   "metadata": {},
   "outputs": [],
   "source": [
    "Display the apparent elevation due to refraction using the `matplotlib` routines"
   ]
  },
  {
   "cell_type": "code",
   "execution_count": null,
   "metadata": {},
   "outputs": [],
   "source": [
    "from matplotlib import pyplot as plt\n",
    "\n",
    "\n",
    "# Set the figure size\n",
    "\n",
    "plt.rcParams[\"figure.figsize\"] = (15, 10)\n",
    "\n",
    "\n",
    "\n",
    "# Display the results\n",
    "\n",
    "plt.plot(height, apparent_elevation, label='Integration')\n",
    "\n",
    "plt.plot(height, apparent_elevation_approximate, '--', label = 'Approximate')\n",
    "\n",
    "\n",
    "\n",
    "# Set the plot title and labels\n",
    "\n",
    "plt.title('Apparent Elevation due to Refraction', size=14)\n",
    "\n",
    "plt.xlabel('Height (km)', size=12)\n",
    "\n",
    "plt.ylabel('Apparent Elevation Angle (degrees)', size=12)\n",
    "\n",
    "\n",
    "\n",
    "# Set the tick label size\n",
    "\n",
    "plt.tick_params(labelsize=12)\n",
    "\n",
    "\n",
    "\n",
    "# Turn on the grid\n",
    "\n",
    "plt.grid(linestyle=':', linewidth=0.5)"
   ]
  }
 ],
 "metadata": {
  "kernelspec": {
   "display_name": "Python 3",
   "language": "python",
   "name": "python3"
  },
  "language_info": {
   "codemirror_mode": {
    "name": "ipython",
    "version": 3
   },
   "file_extension": ".py",
   "mimetype": "text/x-python",
   "name": "python",
   "nbconvert_exporter": "python",
   "pygments_lexer": "ipython3",
   "version": "3.7.3"
  }
 },
 "nbformat": 4,
 "nbformat_minor": 4
}
