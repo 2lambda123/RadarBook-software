{
 "cells": [
  {
   "cell_type": "markdown",
   "metadata": {},
   "source": [
    "# ***Introduction to Radar Using Python and MATLAB***\n",
    "## Andy Harrison - Copyright (C) 2019 Artech House\n",
    "<br/>\n",
    "\n",
    "# Shnidman Approximation\n",
    "***"
   ]
  },
  {
   "cell_type": "markdown",
   "metadata": {},
   "source": [
    "Referring to Section 6.3.6, Shnidman  developed a set of equations, based on empirical data, for calculating the required signal-to-noise ratio for a specified probability of detection and probability of false alarm.  These equations are applicable to all of the Swerling target models for either a single pulse or the noncoherent integration of $N$ pulses. Shnidman's equation proceeds as follows.  First, the parameter $K$ is chosen based on the Swerling target type, then the parameter $\\alpha$ is chosen based on the number of pulses as (Equation 6.45)\n",
    "\n",
    "$$\n",
    "    K = \\begin{cases}\n",
    "    \\infty &\\text{Swerling 0}\\\\\n",
    "    1 &\\text{Swerling I}\\\\\n",
    "    N &\\text{Swerling II}\\\\\n",
    "    2 &\\text{Swerling III}\\\\\n",
    "    2N &\\text{Swerling IV}\n",
    "    \\end{cases}, \\hspace{0.4in}\n",
    "    \\alpha = \\begin{cases}\n",
    "    0 &N<40\\\\\n",
    "    \\frac{1}{4} &N\\ge40\n",
    "    \\end{cases}.\n",
    "$$\n",
    "\n",
    "Then the two parameters $\\eta$ and $X$ are computed from (Equation 6.46)\n",
    "\n",
    "$$\n",
    "    \\eta = \\sqrt{-0.8\\ln(4 P_{fa}(1-P_{fa}))} + \\text{sign}(P_d - 0.5)\\sqrt{-0.8\\ln(4 P_d(1-P_d))}\n",
    "$$\n",
    "\n",
    "and\n",
    "\n",
    "$$\n",
    "    X = \\eta\\Bigg[ \\eta + 2\\sqrt{\\frac{N}{2} + \\Big( \\alpha - \\frac{1}{4}\\Big)} \\,\\Bigg].\n",
    "$$\n",
    "\n",
    "The following constants are now computed (Equation 6.48 - 6.51)\n",
    "\n",
    "\\begin{align}\n",
    "    C_1 &= \\left( \\big[  (17.7006 P_d - 18.4496) P_d  + 14.5339\\big]P_d - 3.525 \\right) / K, \\\\ \\nonumber \\\\\n",
    "    C_2 &= \\frac{1}{K}\\bigg( \\exp\\big( 27.31 P_D - 25.14\\big) + \\big( P_d-0.8\\big) \\nonumber \\\\ &\\hspace{1.5in}\\times \\left[ 0.7\\ln\\left( \\frac{10^{-5}}{P_{fa}}\\right) + \\frac{(2N-20)}{80}\\right]\\bigg), \\\\ \\nonumber \\\\\n",
    "    C_{dB} &= \\begin{cases} C_1 &\\text{for}\\hspace{5pt}0.1\\le P_d \\le 0.872,\\\\[5pt] C_1 + C_2 &\\text{for}\\hspace{5pt}0.872\\le P_d \\le 0.99,\\end{cases} \\\\ \\nonumber \\\\\n",
    "    C &= 10^{(C_{dB}/10)}.\\nonumber \n",
    "\\end{align}\n",
    "\n",
    "Finally, the signal-to-noise ratio is (Equation 6.52)\n",
    "\n",
    "$$\n",
    "    {SNR} = 10\\log_{10}\\left(\\frac{C\\cdot X}{N}\\right) \\hspace{0.5in} \\text{(dB)}.\n",
    "$$\n",
    "\n",
    "Shnidman's equation has been shown to be accurate to within $0.5$ dB within the following bounds\n",
    "\n",
    "$$\n",
    "    0.1 \\le \\,P_d \\le 0.99, \\\\ \\nonumber \\\\\n",
    "    10^{-9} \\le \\,P_{fa} \\le 10^{-3}, \\\\ \\nonumber \\\\\n",
    "    1 \\le \\,N \\le 10.\n",
    "$$\n",
    "\n",
    "Shnidman's equation is valid for all five Swerling target types.  Shnidman's equation provides accurate results for first cut type of radar system calculations.\n",
    "***"
   ]
  },
  {
   "cell_type": "markdown",
   "metadata": {},
   "source": [
    "Begin by getting the library path"
   ]
  },
  {
   "cell_type": "code",
   "execution_count": 1,
   "metadata": {},
   "outputs": [],
   "source": [
    "import lib_path"
   ]
  },
  {
   "cell_type": "markdown",
   "metadata": {},
   "source": [
    "Set the start and end probability of detection"
   ]
  },
  {
   "cell_type": "code",
   "execution_count": 2,
   "metadata": {},
   "outputs": [],
   "source": [
    "pd_start = 0.8\n",
    "\n",
    "pd_end = 0.99"
   ]
  },
  {
   "cell_type": "markdown",
   "metadata": {},
   "source": [
    "Create the prbability of detection array using the `linspace` routine from `scipy`"
   ]
  },
  {
   "cell_type": "code",
   "execution_count": 3,
   "metadata": {},
   "outputs": [],
   "source": [
    "from numpy import linspace\n",
    "\n",
    "\n",
    "pd_all = linspace(pd_start, pd_end, 200)"
   ]
  },
  {
   "cell_type": "markdown",
   "metadata": {},
   "source": [
    "Set the probability of false alarm and the number_of_pulses"
   ]
  },
  {
   "cell_type": "code",
   "execution_count": 4,
   "metadata": {},
   "outputs": [],
   "source": [
    "pfa = 1e-6\n",
    "\n",
    "number_of_pulses = 10"
   ]
  },
  {
   "cell_type": "markdown",
   "metadata": {},
   "source": [
    "Set the target type (Swerling 0 - Swerling 4)"
   ]
  },
  {
   "cell_type": "code",
   "execution_count": 5,
   "metadata": {},
   "outputs": [],
   "source": [
    "target_type = 'Swerling 2'"
   ]
  },
  {
   "cell_type": "markdown",
   "metadata": {},
   "source": [
    "Calculate the error in the Shnidman approximation of signal to noise using the `single_pulse_snr` and `signal_to_noise` routines"
   ]
  },
  {
   "cell_type": "code",
   "execution_count": 6,
   "metadata": {},
   "outputs": [],
   "source": [
    "from Libs.detection.shnidman import signal_to_noise\n",
    "from Libs.detection.non_coherent_integration import single_pulse_snr\n",
    "\n",
    "from numpy import log10\n",
    "\n",
    "error = [10.0 * log10(single_pulse_snr(p, pfa, number_of_pulses, target_type)) - signal_to_noise(p, pfa, number_of_pulses, target_type) for p in pd_all]"
   ]
  },
  {
   "cell_type": "markdown",
   "metadata": {},
   "source": [
    "Display the error in the Shnidman approximation"
   ]
  },
  {
   "cell_type": "code",
   "execution_count": 8,
   "metadata": {},
   "outputs": [
    {
     "data": {
      "image/png": "[encoded data removed]",
      "text/plain": [
       "<matplotlib.figure.Figure at 0xc025730>"
      ]
     },
     "metadata": {
      "needs_background": "light"
     },
     "output_type": "display_data"
    }
   ],
   "source": [
    "from matplotlib import pyplot as plt\n",
    "\n",
    "\n",
    "\n",
    "# Set the figure size\n",
    "\n",
    "plt.rcParams[\"figure.figsize\"] = (15, 10)\n",
    "\n",
    "\n",
    "\n",
    "# Display the results\n",
    "\n",
    "plt.plot(pd_all, error, '')\n",
    "\n",
    "\n",
    "\n",
    "# Set the plot title and labels\n",
    "\n",
    "plt.title('Shnidman\\'s Approximation', size=14)\n",
    "\n",
    "plt.xlabel('Probability of Detection', size=12)\n",
    "\n",
    "plt.ylabel('Signal to Noise Error (dB)', size=12)\n",
    "\n",
    "plt.ylim(-1, 1)\n",
    "\n",
    "\n",
    "\n",
    "# Set the tick label size\n",
    "\n",
    "plt.tick_params(labelsize=12)\n",
    "\n",
    "\n",
    "\n",
    "# Turn on the grid\n",
    "\n",
    "plt.grid(linestyle=':', linewidth=0.5)"
   ]
  },
  {
   "cell_type": "code",
   "execution_count": null,
   "metadata": {},
   "outputs": [],
   "source": []
  }
 ],
 "metadata": {
  "kernelspec": {
   "display_name": "Python 3",
   "language": "python",
   "name": "python3"
  },
  "language_info": {
   "codemirror_mode": {
    "name": "ipython",
    "version": 3
   },
   "file_extension": ".py",
   "mimetype": "text/x-python",
   "name": "python",
   "nbconvert_exporter": "python",
   "pygments_lexer": "ipython3",
   "version": "3.8.2"
  }
 },
 "nbformat": 4,
 "nbformat_minor": 4
}
