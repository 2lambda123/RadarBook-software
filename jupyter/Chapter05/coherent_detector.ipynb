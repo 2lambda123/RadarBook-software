{
 "cells": [
  {
   "cell_type": "markdown",
   "metadata": {},
   "source": [
    "# Coherent Detector"
   ]
  },
  {
   "cell_type": "markdown",
   "metadata": {},
   "source": [
    "The in-phase and quadrature signal components from a coherent detector may be written as (Equation 5.13)\n",
    "\n",
    "$$\n",
    "    x(t) = a(t) \\cos(2\\pi f_0 t) \\cos(\\phi(t)) - a(t) \\sin(2 \\pi f_0 t) \\sin(\\phi(t))\n",
    "     = X_I(t) \\cos(2 \\pi f_0 t) - X_Q \\sin(2 \\pi f_0 t)\n",
    "$$"
   ]
  },
  {
   "cell_type": "markdown",
   "metadata": {},
   "source": [
    "Begin by setting the library path"
   ]
  },
  {
   "cell_type": "code",
   "execution_count": 1,
   "metadata": {},
   "outputs": [],
   "source": [
    "import lib_path"
   ]
  },
  {
   "cell_type": "markdown",
   "metadata": {},
   "source": [
    "Set the sampling frequency (Hz), the start frequency (Hz), the end frequency (Hz), the amplitude modulation frequency (Hz) and amplitude (relative) for the sample signal"
   ]
  },
  {
   "cell_type": "code",
   "execution_count": 2,
   "metadata": {},
   "outputs": [],
   "source": [
    "sampling_frequency = 100\n",
    "\n",
    "start_frequency = 4\n",
    "\n",
    "end_frequency = 25\n",
    "\n",
    "am_amplitude = 0.1\n",
    "\n",
    "am_frequency = 9"
   ]
  },
  {
   "cell_type": "markdown",
   "metadata": {},
   "source": [
    "Calculate the bandwidth (Hz) and center frequency (Hz)"
   ]
  },
  {
   "cell_type": "code",
   "execution_count": 3,
   "metadata": {},
   "outputs": [],
   "source": [
    "bandwidth = end_frequency - start_frequency\n",
    "\n",
    "center_frequency = 0.5 * bandwidth + start_frequency"
   ]
  },
  {
   "cell_type": "markdown",
   "metadata": {},
   "source": [
    "Set up the waveform"
   ]
  },
  {
   "cell_type": "code",
   "execution_count": 4,
   "metadata": {},
   "outputs": [],
   "source": [
    "from scipy import arange, sin\n",
    "\n",
    "from scipy.constants import pi\n",
    "\n",
    "from scipy.signal import chirp\n",
    "\n",
    "time = arange(sampling_frequency) / sampling_frequency\n",
    "\n",
    "if_signal = chirp(time, start_frequency, time[-1], end_frequency)\n",
    "\n",
    "if_signal *= (1.0 + am_amplitude * sin(2.0 * pi * am_frequency * time))"
   ]
  },
  {
   "cell_type": "markdown",
   "metadata": {},
   "source": [
    "Set up the keyword args"
   ]
  },
  {
   "cell_type": "code",
   "execution_count": 5,
   "metadata": {},
   "outputs": [],
   "source": [
    "kwargs = {'if_signal': if_signal,\n",
    "          \n",
    "          'center_frequency': center_frequency,\n",
    "\n",
    "          'bandwidth': bandwidth,\n",
    "\n",
    "          'sample_frequency': sampling_frequency,\n",
    "\n",
    "          'time': time}"
   ]
  },
  {
   "cell_type": "markdown",
   "metadata": {},
   "source": [
    "Calculate the baseband in-phase and quadrature signals"
   ]
  },
  {
   "cell_type": "code",
   "execution_count": 6,
   "metadata": {},
   "outputs": [],
   "source": [
    "from Libs.receivers import coherent_detector\n",
    "\n",
    "i_signal, q_signal = coherent_detector.iq(**kwargs)"
   ]
  },
  {
   "cell_type": "markdown",
   "metadata": {},
   "source": [
    "Use the `matplotlib` routines to display the results"
   ]
  },
  {
   "cell_type": "code",
   "execution_count": 7,
   "metadata": {},
   "outputs": [
    {
     "data": {
      "text/plain": [
       "<matplotlib.legend.Legend at 0x7f7850d766d8>"
      ]
     },
     "execution_count": 7,
     "metadata": {},
     "output_type": "execute_result"
    }
   ],
   "source": [
    "from matplotlib import pyplot as plt\n",
    "\n",
    "from scipy import real, imag\n",
    "\n",
    "\n",
    "# Set the figure size\n",
    "\n",
    "plt.rcParams[\"figure.figsize\"] = (15, 10)\n",
    "\n",
    "\n",
    "# Display the results\n",
    "\n",
    "plt.plot(time, real(i_signal), '', label='In Phase')\n",
    "\n",
    "plt.plot(time, real(q_signal), '-.', label='Quadrature')\n",
    "\n",
    "\n",
    "# Set the plot title and labels\n",
    "\n",
    "plt.title('Coherent Detector', size=14)\n",
    "\n",
    "plt.xlabel('Time (s)', size=12)\n",
    "\n",
    "plt.ylabel('Amplitude (V)', size=12)\n",
    "\n",
    "\n",
    "# Set the tick label size\n",
    "\n",
    "plt.tick_params(labelsize=12)\n",
    "\n",
    "\n",
    "# Turn on the grid\n",
    "\n",
    "plt.grid(linestyle=':', linewidth=0.5)\n",
    "\n",
    "\n",
    "# Show the legend\n",
    "\n",
    "plt.legend(loc='upper right', prop={'size': 10})"
   ]
  }
 ],
 "metadata": {
  "kernelspec": {
   "display_name": "Python 3",
   "language": "python",
   "name": "python3"
  },
  "language_info": {
   "codemirror_mode": {
    "name": "ipython",
    "version": 3
   },
   "file_extension": ".py",
   "mimetype": "text/x-python",
   "name": "python",
   "nbconvert_exporter": "python",
   "pygments_lexer": "ipython3",
   "version": "3.7.3"
  }
 },
 "nbformat": 4,
 "nbformat_minor": 4
}
